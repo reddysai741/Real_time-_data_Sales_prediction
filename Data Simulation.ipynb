{
 "cells": [
  {
   "cell_type": "code",
   "execution_count": 9,
   "id": "d098c873",
   "metadata": {},
   "outputs": [],
   "source": [
    "import pandas as pd\n",
    "import random\n",
    "from datetime import datetime"
   ]
  },
  {
   "cell_type": "code",
   "execution_count": 10,
   "id": "7a065f9d",
   "metadata": {},
   "outputs": [],
   "source": [
    "products = {\n",
    "    \"Rice\": (20, 50),  \n",
    "    \"Bread\": (15, 30),\n",
    "    \"Milk\": (10, 25),\n",
    "    \"Eggs\": (5, 12),\n",
    "    \"Fruits\": (10, 50),\n",
    "    \"Vegetables\": (5, 40)\n",
    "}"
   ]
  },
  {
   "cell_type": "code",
   "execution_count": 12,
   "id": "b8c238cb",
   "metadata": {},
   "outputs": [
    {
     "data": {
      "text/plain": [
       "dict_keys(['Rice', 'Bread', 'Milk', 'Eggs', 'Fruits', 'Vegetables'])"
      ]
     },
     "execution_count": 12,
     "metadata": {},
     "output_type": "execute_result"
    }
   ],
   "source": [
    "products.keys()"
   ]
  },
  {
   "cell_type": "code",
   "execution_count": 3,
   "id": "941b8bea",
   "metadata": {},
   "outputs": [],
   "source": [
    "def generate_sales_record():\n",
    "    product = random.choice(list(products.keys()))\n",
    "    price = random.uniform(*products[product])  \n",
    "    units_sold = random.randint(1, 100)  \n",
    "    total_sales = price * units_sold\n",
    "    timestamp = datetime.now().strftime('%Y-%m-%d %H:%M:%S') \n",
    "    return {\n",
    "        \"Product\": product,\n",
    "        \"Price per Unit\": round(price, 2),\n",
    "        \"Units Sold\": units_sold,\n",
    "        \"Total Sales\": round(total_sales, 2),\n",
    "        \"Timestamp\": timestamp\n",
    "    }\n"
   ]
  },
  {
   "cell_type": "code",
   "execution_count": 4,
   "id": "c5db3090",
   "metadata": {},
   "outputs": [],
   "source": [
    "def generate_large_dataset(num_records):\n",
    "    data = [generate_sales_record() for _ in range(num_records)]\n",
    "    return pd.DataFrame(data)"
   ]
  },
  {
   "cell_type": "code",
   "execution_count": 5,
   "id": "e0cd445a",
   "metadata": {},
   "outputs": [],
   "source": [
    "num_records = 10000 \n",
    "dataset = generate_large_dataset(num_records)"
   ]
  },
  {
   "cell_type": "code",
   "execution_count": 6,
   "id": "ffb9a17f",
   "metadata": {},
   "outputs": [
    {
     "data": {
      "text/html": [
       "<div>\n",
       "<style scoped>\n",
       "    .dataframe tbody tr th:only-of-type {\n",
       "        vertical-align: middle;\n",
       "    }\n",
       "\n",
       "    .dataframe tbody tr th {\n",
       "        vertical-align: top;\n",
       "    }\n",
       "\n",
       "    .dataframe thead th {\n",
       "        text-align: right;\n",
       "    }\n",
       "</style>\n",
       "<table border=\"1\" class=\"dataframe\">\n",
       "  <thead>\n",
       "    <tr style=\"text-align: right;\">\n",
       "      <th></th>\n",
       "      <th>Product</th>\n",
       "      <th>Price per Unit</th>\n",
       "      <th>Units Sold</th>\n",
       "      <th>Total Sales</th>\n",
       "      <th>Timestamp</th>\n",
       "    </tr>\n",
       "  </thead>\n",
       "  <tbody>\n",
       "    <tr>\n",
       "      <th>0</th>\n",
       "      <td>Vegetables</td>\n",
       "      <td>20.16</td>\n",
       "      <td>9</td>\n",
       "      <td>181.47</td>\n",
       "      <td>2024-11-27 10:33:28</td>\n",
       "    </tr>\n",
       "    <tr>\n",
       "      <th>1</th>\n",
       "      <td>Rice</td>\n",
       "      <td>32.32</td>\n",
       "      <td>66</td>\n",
       "      <td>2133.00</td>\n",
       "      <td>2024-11-27 10:33:28</td>\n",
       "    </tr>\n",
       "    <tr>\n",
       "      <th>2</th>\n",
       "      <td>Fruits</td>\n",
       "      <td>14.58</td>\n",
       "      <td>51</td>\n",
       "      <td>743.71</td>\n",
       "      <td>2024-11-27 10:33:28</td>\n",
       "    </tr>\n",
       "    <tr>\n",
       "      <th>3</th>\n",
       "      <td>Rice</td>\n",
       "      <td>27.34</td>\n",
       "      <td>63</td>\n",
       "      <td>1722.70</td>\n",
       "      <td>2024-11-27 10:33:28</td>\n",
       "    </tr>\n",
       "    <tr>\n",
       "      <th>4</th>\n",
       "      <td>Fruits</td>\n",
       "      <td>24.25</td>\n",
       "      <td>79</td>\n",
       "      <td>1915.93</td>\n",
       "      <td>2024-11-27 10:33:28</td>\n",
       "    </tr>\n",
       "    <tr>\n",
       "      <th>...</th>\n",
       "      <td>...</td>\n",
       "      <td>...</td>\n",
       "      <td>...</td>\n",
       "      <td>...</td>\n",
       "      <td>...</td>\n",
       "    </tr>\n",
       "    <tr>\n",
       "      <th>9995</th>\n",
       "      <td>Vegetables</td>\n",
       "      <td>33.19</td>\n",
       "      <td>6</td>\n",
       "      <td>199.17</td>\n",
       "      <td>2024-11-27 10:33:28</td>\n",
       "    </tr>\n",
       "    <tr>\n",
       "      <th>9996</th>\n",
       "      <td>Rice</td>\n",
       "      <td>49.66</td>\n",
       "      <td>63</td>\n",
       "      <td>3128.37</td>\n",
       "      <td>2024-11-27 10:33:28</td>\n",
       "    </tr>\n",
       "    <tr>\n",
       "      <th>9997</th>\n",
       "      <td>Vegetables</td>\n",
       "      <td>8.10</td>\n",
       "      <td>7</td>\n",
       "      <td>56.70</td>\n",
       "      <td>2024-11-27 10:33:28</td>\n",
       "    </tr>\n",
       "    <tr>\n",
       "      <th>9998</th>\n",
       "      <td>Fruits</td>\n",
       "      <td>45.71</td>\n",
       "      <td>46</td>\n",
       "      <td>2102.57</td>\n",
       "      <td>2024-11-27 10:33:28</td>\n",
       "    </tr>\n",
       "    <tr>\n",
       "      <th>9999</th>\n",
       "      <td>Eggs</td>\n",
       "      <td>7.77</td>\n",
       "      <td>62</td>\n",
       "      <td>481.98</td>\n",
       "      <td>2024-11-27 10:33:28</td>\n",
       "    </tr>\n",
       "  </tbody>\n",
       "</table>\n",
       "<p>10000 rows × 5 columns</p>\n",
       "</div>"
      ],
      "text/plain": [
       "         Product  Price per Unit  Units Sold  Total Sales            Timestamp\n",
       "0     Vegetables           20.16           9       181.47  2024-11-27 10:33:28\n",
       "1           Rice           32.32          66      2133.00  2024-11-27 10:33:28\n",
       "2         Fruits           14.58          51       743.71  2024-11-27 10:33:28\n",
       "3           Rice           27.34          63      1722.70  2024-11-27 10:33:28\n",
       "4         Fruits           24.25          79      1915.93  2024-11-27 10:33:28\n",
       "...          ...             ...         ...          ...                  ...\n",
       "9995  Vegetables           33.19           6       199.17  2024-11-27 10:33:28\n",
       "9996        Rice           49.66          63      3128.37  2024-11-27 10:33:28\n",
       "9997  Vegetables            8.10           7        56.70  2024-11-27 10:33:28\n",
       "9998      Fruits           45.71          46      2102.57  2024-11-27 10:33:28\n",
       "9999        Eggs            7.77          62       481.98  2024-11-27 10:33:28\n",
       "\n",
       "[10000 rows x 5 columns]"
      ]
     },
     "execution_count": 6,
     "metadata": {},
     "output_type": "execute_result"
    }
   ],
   "source": [
    "dataset"
   ]
  },
  {
   "cell_type": "code",
   "execution_count": 7,
   "id": "dae3fa83",
   "metadata": {},
   "outputs": [],
   "source": [
    "dataset.to_csv(\"sales_data.csv\", index=False)"
   ]
  },
  {
   "cell_type": "code",
   "execution_count": 8,
   "id": "ee652c69",
   "metadata": {},
   "outputs": [
    {
     "name": "stdout",
     "output_type": "stream",
     "text": [
      "Dataset with 10000 records saved as 'simulated_sales_data.csv'\n"
     ]
    }
   ],
   "source": [
    "print(f\"Dataset with {num_records} records saved as 'sales_data.csv'\")"
   ]
  }
 ],
 "metadata": {
  "kernelspec": {
   "display_name": "Python 3 (ipykernel)",
   "language": "python",
   "name": "python3"
  },
  "language_info": {
   "codemirror_mode": {
    "name": "ipython",
    "version": 3
   },
   "file_extension": ".py",
   "mimetype": "text/x-python",
   "name": "python",
   "nbconvert_exporter": "python",
   "pygments_lexer": "ipython3",
   "version": "3.11.3"
  }
 },
 "nbformat": 4,
 "nbformat_minor": 5
}
